{
  "nbformat": 4,
  "nbformat_minor": 0,
  "metadata": {
    "colab": {
      "name": "aula8.ipynb",
      "provenance": [],
      "authorship_tag": "ABX9TyOf5X2moWaxSn34wKaE1HMu",
      "include_colab_link": true
    },
    "kernelspec": {
      "name": "python3",
      "display_name": "Python 3"
    },
    "language_info": {
      "name": "python"
    }
  },
  "cells": [
    {
      "cell_type": "markdown",
      "metadata": {
        "id": "view-in-github",
        "colab_type": "text"
      },
      "source": [
        "<a href=\"https://colab.research.google.com/github/matheusrebe/intro_python/blob/main/exercicios_aulas/aula8.ipynb\" target=\"_parent\"><img src=\"https://colab.research.google.com/assets/colab-badge.svg\" alt=\"Open In Colab\"/></a>"
      ]
    },
    {
      "cell_type": "markdown",
      "metadata": {
        "id": "zqoTVkdsJWPC"
      },
      "source": [
        "## Exercícios: \n",
        "   1. Percorra toda a `string` \"banana\", utilizando as iterações\n",
        "apresentadas nas aulas anteriores, e imprima na tela uma letra por linha como se fosse em uma escada. \n",
        "   1. Escreva uma função que receba uma `string` como argumento e exiba as letras de trás para a frente, uma por linha.\n"
      ]
    },
    {
      "cell_type": "code",
      "metadata": {
        "colab": {
          "base_uri": "https://localhost:8080/"
        },
        "id": "Z6uDpPkEGahr",
        "outputId": "6b5d7bea-43cf-46e7-ea20-226aefcf840d"
      },
      "source": [
        "#Exercícios da primeira parte\n",
        "#Exercício 1\n",
        "\n",
        "fruta = 'banana'\n",
        "a = len(fruta)\n",
        "\n",
        "for i in range(a):\n",
        "    print(\" \"*i+fruta[i]) #Uso * para replicar o espaço vazio e + para concatenar\n"
      ],
      "execution_count": null,
      "outputs": [
        {
          "output_type": "stream",
          "name": "stdout",
          "text": [
            "b\n",
            " a\n",
            "  n\n",
            "   a\n",
            "    n\n",
            "     a\n"
          ]
        }
      ]
    },
    {
      "cell_type": "code",
      "metadata": {
        "colab": {
          "base_uri": "https://localhost:8080/"
        },
        "id": "mtVo6cASKP5a",
        "outputId": "ddb69ff4-2815-4b7e-d8b7-7e3476f0667f"
      },
      "source": [
        "#Exercícios da primeira parte\n",
        "#Exercício 2\n",
        "\n",
        "def inverter(palavra):\n",
        "    for i in range(a):\n",
        "      if i == 0:\n",
        "        continue\n",
        "      else:\n",
        "        print(fruta[-i])\n",
        "    print(fruta[0]) #Coloca se a parte pois o i sempre começa com 0 e isso é um problema na minha lógica\n",
        "\n",
        "fruta = 'melão'\n",
        "a = len(fruta)\n",
        "\n",
        "inverter(fruta)"
      ],
      "execution_count": null,
      "outputs": [
        {
          "output_type": "stream",
          "name": "stdout",
          "text": [
            "o\n",
            "ã\n",
            "l\n",
            "e\n",
            "m\n"
          ]
        }
      ]
    },
    {
      "cell_type": "markdown",
      "metadata": {
        "id": "tdhuo2DSMAIz"
      },
      "source": [
        "## Exercícios\n",
        "\n",
        "   1. Resolução numérica de equações diferenciais. Imagine que tem um/a maratonista treinando, que num trecho de $5 \\mathrm{km}$ tem velocidade quase constante de $12 \\mathrm{km/h}$. Produza uma lista com a  distância percorrida em intervalos de 1 minuto. \n",
        "\n",
        "   1. O/A mesmo/a atleta no seguinte trecho acelera nos seguintes $200$ metros até chegar numa velocidade de $15 \\mathrm{km/h}$, e mantém esta velocidade por $1,8 \\mathrm{km}$. Queremos obter uma tabela ou gráfico da distância percorrida en função do tempo, e calcular e o tempo total para chegar em $7 \\mathrm{km}$, faça isto utilizando listas. \n",
        "\n",
        "   1. Considere um péndulo simples num plano. O comprimento da linha é $1$ metro, a massa é $0,2 \\mathrm{kg}$ e a aceleração de gravidade $9,8 \\mathrm{m}/\\mathrm{s}^2$. Faça um gráfico ou crie uma tabela para a posição da massa em coordenadas cartesianas em função do tempo, utilizando listas.\n",
        "\n",
        "   1. (opcional) Pesquise sobre o pacote `numpy` e os objetos desse pacote chamados `array`, tente utilizálos ao invés de listas para resolver os exercícios.\n",
        "\n",
        "Dica: podem usar o pacote `matplotlib.pyplot` para fazer um gráfico:"
      ]
    },
    {
      "cell_type": "code",
      "metadata": {
        "colab": {
          "base_uri": "https://localhost:8080/"
        },
        "id": "jzgiKHEwsVvC",
        "outputId": "bc8ec5da-8f49-4a76-d080-72e056e67dde"
      },
      "source": [
        "#Exercício 1\n",
        "\n",
        "#Achando o tempo total\n",
        "v = 12 #km/h\n",
        "d = 5 #km #Distância \n",
        "\n",
        "T =(5/12)*60 #tempo total em min aproximado determina o tamanho da minha lista\n",
        "\n",
        "distancia = [] \n",
        "for i in range(int(T+1)): #O T+1 vem para garantir que o valor T seja atingido\n",
        "    distancia.append(v*i/60)\n",
        "\n",
        "print(distancia)"
      ],
      "execution_count": null,
      "outputs": [
        {
          "output_type": "stream",
          "name": "stdout",
          "text": [
            "[0.0, 0.2, 0.4, 0.6, 0.8, 1.0, 1.2, 1.4, 1.6, 1.8, 2.0, 2.2, 2.4, 2.6, 2.8, 3.0, 3.2, 3.4, 3.6, 3.8, 4.0, 4.2, 4.4, 4.6, 4.8, 5.0]\n"
          ]
        }
      ]
    },
    {
      "cell_type": "code",
      "metadata": {
        "colab": {
          "base_uri": "https://localhost:8080/",
          "height": 351
        },
        "id": "pdnTlc2__aR9",
        "outputId": "5aa4385b-0ff7-45a7-b8d9-2edc3f14d9a5"
      },
      "source": [
        "#Exercício 3 - O loop do for é bom para períodos longos, por isso adicinei o l=100, se fizer o loop do while ele funcionaria melhor para períodos curtos\n",
        "import math\n",
        "import matplotlib.pyplot as plt\n",
        "\n",
        "g = 9.8 #m/s^2 \n",
        "\n",
        "def posicao_y(theta_0,tamanho_fio, t):\n",
        "    y = -tamanho_fio*math.cos(theta_0*math.cos(math.sqrt(g/tamanho_fio)*t))\n",
        "    return y\n",
        "\n",
        "def posicao_x(theta_0,tamanho_fio, t):\n",
        "    x = tamanho_fio*math.sin(theta_0*math.cos(math.sqrt(g/tamanho_fio)*t))\n",
        "    return x\n",
        "\n",
        "#Calculando periodo do pendulo\n",
        "#T = 2*math.pi*math.sqrt(1/g)\n",
        "#print(T)\n",
        "\n",
        "t = []\n",
        "x_position = []\n",
        "y_position = []\n",
        "for i in range(20):\n",
        "  y_position.append(posicao_y(0.4,100,i))\n",
        "  x_position.append(posicao_x(0.4,100,i))\n",
        "  t.append(i)\n",
        "\n",
        "print(y_position)\n",
        "print(x_position)\n",
        "\n",
        "plt.plot(t,x_position)\n",
        "plt.xlabel(\"tempo s\")\n",
        "plt.ylabel(\"distância em x m\")\n",
        "\n",
        "'''\n",
        "plt.plot(t,y_position)\n",
        "plt.xlabel(\"tempo s\")\n",
        "plt.ylabel(\"distância em y m\")\n",
        "'''"
      ],
      "execution_count": null,
      "outputs": [
        {
          "output_type": "stream",
          "name": "stdout",
          "text": [
            "[-92.10609940028851, -92.84569436280151, -94.79288558065171, -97.22365316493013, -99.21609364773842, -99.99975369427828, -99.26798503760693, -97.30719358424307, -94.87603732807885, -92.89725125793974, -92.1070585324019, -92.79570474128273, -94.7103637215925, -97.1395456129856, -99.16263195299739, -99.99778343777905, -99.31827973285318, -97.39012520579676, -94.95977850689995, -92.95035085522608]\n",
            "[38.941834230865055, 37.1440040691529, 31.848215700309996, 23.400027035569288, 12.496670007774124, 0.2219483806614536, -12.077547208495899, -23.050164354265355, -31.59964463282755, -37.01487145350114, -38.93956559219286, -37.26871585617994, -32.09278740969154, -23.746761423459215, -12.914039807681524, -0.6658134356114291, 11.656728139007283, 22.697213758504134, 31.347096610699076, 36.88132692692025]\n"
          ]
        },
        {
          "output_type": "execute_result",
          "data": {
            "application/vnd.google.colaboratory.intrinsic+json": {
              "type": "string"
            },
            "text/plain": [
              "'\\nplt.plot(t,y_position)\\nplt.xlabel(\"tempo s\")\\nplt.ylabel(\"distância em y m\")\\n'"
            ]
          },
          "metadata": {},
          "execution_count": 56
        },
        {
          "output_type": "display_data",
          "data": {
            "image/png": "[encoded data removed]",
            "text/plain": [
              "<Figure size 432x288 with 1 Axes>"
            ]
          },
          "metadata": {
            "needs_background": "light"
          }
        }
      ]
    },
    {
      "cell_type": "code",
      "metadata": {
        "colab": {
          "base_uri": "https://localhost:8080/"
        },
        "id": "vpteoY0Tn3Xm",
        "outputId": "4782ce69-0847-4455-a8ab-f0971affbfec"
      },
      "source": [
        "plt.plot(t,x)\n",
        "plt.xlabel(\"tempo s\")\n",
        "plt.ylabel(\"distância m\")"
      ],
      "execution_count": null,
      "outputs": [
        {
          "output_type": "execute_result",
          "data": {
            "text/plain": [
              "0.7071067811865476"
            ]
          },
          "metadata": {},
          "execution_count": 19
        }
      ]
    }
  ]
}