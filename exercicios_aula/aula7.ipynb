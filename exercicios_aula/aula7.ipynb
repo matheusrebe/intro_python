{
  "nbformat": 4,
  "nbformat_minor": 0,
  "metadata": {
    "colab": {
      "name": "aula7.ipynb",
      "provenance": [],
      "authorship_tag": "ABX9TyNKkUPB5nWp5nbnt0wezQk3",
      "include_colab_link": true
    },
    "kernelspec": {
      "name": "python3",
      "display_name": "Python 3"
    },
    "language_info": {
      "name": "python"
    }
  },
  "cells": [
    {
      "cell_type": "markdown",
      "metadata": {
        "id": "view-in-github",
        "colab_type": "text"
      },
      "source": [
        "<a href=\"https://colab.research.google.com/github/matheusrebe/intro_python/blob/main/exercicios_aula/aula7.ipynb\" target=\"_parent\"><img src=\"https://colab.research.google.com/assets/colab-badge.svg\" alt=\"Open In Colab\"/></a>"
      ]
    },
    {
      "cell_type": "markdown",
      "metadata": {
        "id": "VjsmwzGsiVPh"
      },
      "source": [
        "## Exercícios Parte 1\n",
        "\n",
        "1) A **conjectura de Collatz**, diz que \"Todos os inteiros positivos irão eventualmente convergir para 1 usando as regras do Collatz\". Faça um programa que ___verifique___ a conjectura de Collatz para alguns valores. As regras de Collatz são: \n",
        "\n",
        "Dado um número ***n***: \n",
        "   * se ***n*** for par, divida-o por ***2***;\n",
        "   * se ***n*** for ímpar, atualize-o para 3*n + 1;\n",
        "   * repetir até chegar ao valor 1.\n",
        "  \n",
        "  \n",
        "2) Modifique a função ```counter``` para contar o número de vezes que os dígitos 0 e 5 aparecem em um dado número n. Por exemplo, n = 10568, tem 2 dígitos 0 ou 5. \n",
        "\n",
        "3) Encapsule e generalize a seguinte declaração:\n",
        "\n",
        "\n",
        "\n",
        "```python\n",
        "for i in [12, 16, 17, 24, 29]:\n",
        "    if i % 2 == 1:  # If the number is odd\n",
        "       break        #  ... immediately exit the loop\n",
        "    print(i)\n",
        "print(\"done\")\n",
        "```\n",
        "4) O método de Newton para raiz quadrada. Suponha que você queira calcular a raiz quadrada de n. Se você começar com quase qualquer aproximação, poderá calcular uma aproximação melhor (mais próxima da resposta real) com a seguinte fórmula: melhor = (approx + n/approx)/2\n",
        "\n",
        "Usando um loop e repetindo esta fórmula até que a melhor aproximação se aproxime o suficiente da anterior (este \"suficiente\" é arbitrario: podemos considerar uma diferença de 0,001), escreva uma função para calcular a raiz quadrada utilizando o método de Newton.\n",
        "\n",
        "Esse é um exemplo de repetição indefinida. Com qual tipo de loop você deve escrever o seu programa?\n",
        "\n"
      ]
    },
    {
      "cell_type": "code",
      "metadata": {
        "colab": {
          "base_uri": "https://localhost:8080/"
        },
        "id": "zD4H6gwpiIEj",
        "outputId": "a1765827-807d-42de-ecd3-0f9368c72bb2"
      },
      "source": [
        "#Exercicio 1\n",
        "\n",
        "def conject_collatz(x):\n",
        "    print(\"sequência numérica\")\n",
        "    print(x)\n",
        "    while x != 1:\n",
        "      if x % 2 == 0:\n",
        "        x=x//2\n",
        "      else: \n",
        "        x=3*x+1\n",
        "      print(x)  \n",
        "    print(\"Catapimbas, não é que funciona mermo!\")\n",
        "\n",
        "conject_collatz(1000000)"
      ],
      "execution_count": null,
      "outputs": [
        {
          "output_type": "stream",
          "name": "stdout",
          "text": [
            "sequência numérica\n",
            "1000000\n",
            "500000\n",
            "250000\n",
            "125000\n",
            "62500\n",
            "31250\n",
            "15625\n",
            "46876\n",
            "23438\n",
            "11719\n",
            "35158\n",
            "17579\n",
            "52738\n",
            "26369\n",
            "79108\n",
            "39554\n",
            "19777\n",
            "59332\n",
            "29666\n",
            "14833\n",
            "44500\n",
            "22250\n",
            "11125\n",
            "33376\n",
            "16688\n",
            "8344\n",
            "4172\n",
            "2086\n",
            "1043\n",
            "3130\n",
            "1565\n",
            "4696\n",
            "2348\n",
            "1174\n",
            "587\n",
            "1762\n",
            "881\n",
            "2644\n",
            "1322\n",
            "661\n",
            "1984\n",
            "992\n",
            "496\n",
            "248\n",
            "124\n",
            "62\n",
            "31\n",
            "94\n",
            "47\n",
            "142\n",
            "71\n",
            "214\n",
            "107\n",
            "322\n",
            "161\n",
            "484\n",
            "242\n",
            "121\n",
            "364\n",
            "182\n",
            "91\n",
            "274\n",
            "137\n",
            "412\n",
            "206\n",
            "103\n",
            "310\n",
            "155\n",
            "466\n",
            "233\n",
            "700\n",
            "350\n",
            "175\n",
            "526\n",
            "263\n",
            "790\n",
            "395\n",
            "1186\n",
            "593\n",
            "1780\n",
            "890\n",
            "445\n",
            "1336\n",
            "668\n",
            "334\n",
            "167\n",
            "502\n",
            "251\n",
            "754\n",
            "377\n",
            "1132\n",
            "566\n",
            "283\n",
            "850\n",
            "425\n",
            "1276\n",
            "638\n",
            "319\n",
            "958\n",
            "479\n",
            "1438\n",
            "719\n",
            "2158\n",
            "1079\n",
            "3238\n",
            "1619\n",
            "4858\n",
            "2429\n",
            "7288\n",
            "3644\n",
            "1822\n",
            "911\n",
            "2734\n",
            "1367\n",
            "4102\n",
            "2051\n",
            "6154\n",
            "3077\n",
            "9232\n",
            "4616\n",
            "2308\n",
            "1154\n",
            "577\n",
            "1732\n",
            "866\n",
            "433\n",
            "1300\n",
            "650\n",
            "325\n",
            "976\n",
            "488\n",
            "244\n",
            "122\n",
            "61\n",
            "184\n",
            "92\n",
            "46\n",
            "23\n",
            "70\n",
            "35\n",
            "106\n",
            "53\n",
            "160\n",
            "80\n",
            "40\n",
            "20\n",
            "10\n",
            "5\n",
            "16\n",
            "8\n",
            "4\n",
            "2\n",
            "1\n",
            "Catapimbas, não é que funciona mermo!\n"
          ]
        }
      ]
    },
    {
      "cell_type": "code",
      "metadata": {
        "colab": {
          "base_uri": "https://localhost:8080/"
        },
        "id": "qD2PqzD4nxJl",
        "outputId": "dd99637a-0768-4f60-d18f-46bd6668e355"
      },
      "source": [
        "#Exercício 2\n",
        "\n",
        "def tem_0_5(n): \n",
        "    count = 0 \n",
        "    while n != 0:\n",
        "        if n % 5 == 0: #números terminados em 0 e 5 são divisíveis por 5 então basta olhar o %5\n",
        "          count = count + 1\n",
        "        n = n // 10\n",
        "    return count\n",
        "        \n",
        "tem_0_5(51005)"
      ],
      "execution_count": 10,
      "outputs": [
        {
          "output_type": "execute_result",
          "data": {
            "text/plain": [
              "4"
            ]
          },
          "metadata": {},
          "execution_count": 10
        }
      ]
    },
    {
      "cell_type": "code",
      "metadata": {
        "colab": {
          "base_uri": "https://localhost:8080/"
        },
        "id": "IikibzD9q_sq",
        "outputId": "a2232736-1274-410e-bcb1-aa835331924f"
      },
      "source": [
        "#Exercício 3\n",
        "def is_odd(x):\n",
        "    for i in x:\n",
        "      if i % 2 == 1:  # If the number is odd\n",
        "         break        #  ... immediately exit the loop\n",
        "      print(i) \n",
        "    print('We found a even number, exiting...')\n",
        "\n",
        "is_odd([12, 16, 17, 24, 29])"
      ],
      "execution_count": 28,
      "outputs": [
        {
          "output_type": "stream",
          "name": "stdout",
          "text": [
            "12\n",
            "16\n",
            "We found a even number, exiting...\n"
          ]
        }
      ]
    },
    {
      "cell_type": "code",
      "metadata": {
        "colab": {
          "base_uri": "https://localhost:8080/"
        },
        "id": "LP6-Ww6gvl_0",
        "outputId": "054fe5a4-c8b4-4a6a-c5e0-29ada2300672"
      },
      "source": [
        "#Exercício 4\n",
        "def aproxi_newton(n):\n",
        "    x = n\n",
        "    raiz = (x + n/x)/2\n",
        "    while (x - raiz) > 0.001:\n",
        "        x = raiz\n",
        "        raiz = (x + n/x)/2\n",
        "    return x\n",
        "\n",
        "aproxi_newton(3)"
      ],
      "execution_count": 44,
      "outputs": [
        {
          "output_type": "execute_result",
          "data": {
            "text/plain": [
              "1.7321428571428572"
            ]
          },
          "metadata": {},
          "execution_count": 44
        }
      ]
    },
    {
      "cell_type": "code",
      "metadata": {
        "colab": {
          "base_uri": "https://localhost:8080/"
        },
        "id": "RPmCLy1k4Njs",
        "outputId": "3d86faa3-d37e-477c-f994-ffc474f8a064"
      },
      "source": [
        "import time\n",
        "\n",
        "def tempo_unix(segundos):\n",
        "    minutos = segundos/60\n",
        "    horas   = minutos/60\n",
        "    dias    = horas/24\n",
        "    print(\"Se passaram\",segundos,\"s\",minutos,\"min\",horas,\"h\",dias,\"dias desde o marco zero o UNIX OS em janeiro de 1970\")\n",
        "\n",
        "s_atual = time.time()\n",
        "tempo_unix(s_atual)"
      ],
      "execution_count": 51,
      "outputs": [
        {
          "output_type": "stream",
          "name": "stdout",
          "text": [
            "Se passaram 1632337801.7820134 s 27205630.029700223 min 453427.1671616704 h 18892.798631736267 dias desde o marco zero o UNIX OS em janeiro de 1970\n"
          ]
        }
      ]
    },
    {
      "cell_type": "markdown",
      "metadata": {
        "id": "3XH-2jMbvPV4"
      },
      "source": [
        "2) O último teorema de Fermat diz que não existem números inteiros a, b e c tais que `a**n + b**n == c**n` para quaisquer valores de n maiores que 2.\n",
        "   1. Escreva uma função chamada `check_fermat` que receba quatro parâmetros – a, b, c e n – e verifique se o teorema de Fermat se mantém. Se n for maior que 2 e `a**n + b**n == c**n` o programa deve imprimir, “Holy smokes, Fermat was wrong!” Senão o programa deve exibir “No, that doesn’t work.”\n",
        "\n",
        "   1. Escreva uma função que peça ao usuário para digitar valores para a, b, c e n, os converta em números inteiros e use `check_fermat` para verificar se violam o teorema de Fermat."
      ]
    },
    {
      "cell_type": "code",
      "metadata": {
        "colab": {
          "base_uri": "https://localhost:8080/"
        },
        "id": "_BEMEkLC7SD6",
        "outputId": "d365f554-7771-4e85-adca-53854a9c8042"
      },
      "source": [
        "#Exercício 2 - Parte 1\n",
        "\n",
        "def check_fermat(a,b,c,n):\n",
        "    check = pow(a,n)+pow(b,n)\n",
        "    if (check != pow(c,n)):\n",
        "      print(\"No, that doesn't work\")\n",
        "    else:\n",
        "      print(\"Holly smokes, fermat was wrong\")\n",
        "\n",
        "check_fermat(1,2,3,10)    "
      ],
      "execution_count": 52,
      "outputs": [
        {
          "output_type": "stream",
          "name": "stdout",
          "text": [
            "No, that doesn't work\n"
          ]
        }
      ]
    },
    {
      "cell_type": "code",
      "metadata": {
        "colab": {
          "base_uri": "https://localhost:8080/"
        },
        "id": "NI-PJxRs8i3A",
        "outputId": "d24ad081-00af-4b40-9071-e5dfa7234477"
      },
      "source": [
        "#Exercício 2 - Parte 2\n",
        "\n",
        "def check_fermat(a,b,c,n):\n",
        "    check = pow(a,n)+pow(b,n)\n",
        "    if (check != pow(c,n)):\n",
        "      print(\"No, that doesn't work\")\n",
        "    else:\n",
        "      print(\"Holly smokes, fermat was wrong\")\n",
        "\n",
        "print(\"Meu sambarilove, me fala ai em ordem os inteiros a, b, c\")\n",
        "a = input()\n",
        "b = input()\n",
        "c = input()\n",
        "\n",
        "print(\"Agora me passa um valor de n maior que 2\")\n",
        "n = input()\n",
        "\n",
        "check_fermat(int(a),int(b),int(c),int(n))    "
      ],
      "execution_count": 53,
      "outputs": [
        {
          "output_type": "stream",
          "name": "stdout",
          "text": [
            "Meu sambarilove, me fala ai em ordem os inteiros a, b, c\n",
            "2\n",
            "4\n",
            "5\n",
            "Agora me passa um valor de n maior que 2\n",
            "10\n",
            "No, that doesn't work\n"
          ]
        }
      ]
    },
    {
      "cell_type": "markdown",
      "metadata": {
        "id": "HmoknzxM9Jsg"
      },
      "source": [
        "3) Há um teste simples para ver se é possível formar um triângulo para quaisquer três comprimentos: Se algum dos três comprimentos for maior que a soma dos outros dois, então você não pode formar um triângulo. Senão, você pode. (Se a soma de dois comprimentos igualar o terceiro, eles formam um triângulo chamado “degenerado”.)\n",
        "   1. Escreva uma função chamada `is_triangle` que receba três números inteiros como argumentos, e que imprima “Yes” ou “No”, dependendo da possibilidade de formar ou não um triângulo de gravetos com os comprimentos dados.\n",
        "   1. Escreva uma função que peça ao usuário para digitar três comprimentos de gravetos, os converta em números inteiros e use `is_triangle` para verificar se os gravetos com os comprimentos dados podem formar um triângulo."
      ]
    },
    {
      "cell_type": "code",
      "metadata": {
        "colab": {
          "base_uri": "https://localhost:8080/"
        },
        "id": "En5Kn9cU9N5w",
        "outputId": "f2037f57-9a85-4154-9815-49738ea95d95"
      },
      "source": [
        "#Exercício 3 - Parte 1\n",
        "\n",
        "def is_triangle(a,b,c):\n",
        "    if (c < a+b) and (a < c + b) and (b < a+c):\n",
        "      print(\"Yes\")\n",
        "    else:\n",
        "      print(\"No\")\n",
        "\n",
        "is_triangle(4,5,3)    "
      ],
      "execution_count": 54,
      "outputs": [
        {
          "output_type": "stream",
          "name": "stdout",
          "text": [
            "Yes\n"
          ]
        }
      ]
    },
    {
      "cell_type": "code",
      "metadata": {
        "colab": {
          "base_uri": "https://localhost:8080/"
        },
        "id": "-e0Mj66HEZCJ",
        "outputId": "e86ef9d1-7d65-4ed5-ddce-524fdeb917d8"
      },
      "source": [
        "#Exercício 3 - Parte 2\n",
        "\n",
        "def is_triangle(a,b,c):\n",
        "    if (c < a+b) and (a < c + b) and (b < a+c):\n",
        "      print(\"Yes\")\n",
        "    else:\n",
        "      print(\"No\")\n",
        "\n",
        "print(\"Meu sambarilove, me fala ai 3 valores para os lados do triangulo\")\n",
        "a = input()\n",
        "b = input()\n",
        "c = input()\n",
        "\n",
        "is_triangle(int(a),int(b),int(c))     "
      ],
      "execution_count": 56,
      "outputs": [
        {
          "output_type": "stream",
          "name": "stdout",
          "text": [
            "Meu sambarilove, me fala ai 3 valores para os lados do triangulo\n",
            "3\n",
            "4\n",
            "5\n",
            "Yes\n"
          ]
        }
      ]
    }
  ]
}