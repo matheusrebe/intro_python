{
  "nbformat": 4,
  "nbformat_minor": 0,
  "metadata": {
    "colab": {
      "name": "aula3.ipynb",
      "provenance": [],
      "collapsed_sections": [],
      "authorship_tag": "ABX9TyN5sYVbAbGY+Z3EoakDqTuw",
      "include_colab_link": true
    },
    "kernelspec": {
      "name": "python3",
      "display_name": "Python 3"
    },
    "language_info": {
      "name": "python"
    }
  },
  "cells": [
    {
      "cell_type": "markdown",
      "metadata": {
        "id": "view-in-github",
        "colab_type": "text"
      },
      "source": [
        "<a href=\"https://colab.research.google.com/github/matheusrebe/intro_python/blob/main/exercicios_aula/aula3.ipynb\" target=\"_parent\"><img src=\"https://colab.research.google.com/assets/colab-badge.svg\" alt=\"Open In Colab\"/></a>"
      ]
    },
    {
      "cell_type": "markdown",
      "metadata": {
        "id": "56n-DCUBjub8"
      },
      "source": [
        "Exercícios:\n",
        "\n",
        "1- Crie uma funcão que tome um argumento e imprima o valor e o tipo dele.\n",
        "\n",
        "2- Crie uma função que calcule e imprima velocidade media de um objeto a partir de uma posição inicial, a final e o tempo transcorrido para um objeto em MRU. Também crie uma funcão que calcule e imprima a velocidade de um objeto a partir da aceleração constante e o tempo (MRUA) (p.ex. queda libre).\n",
        "\n",
        "3- Crie uma funcão para calcular o ángulo zenital do sol (da semana passada) tomando como argumento as medidas da altura e o comprimento da sombra.\n",
        "\n",
        "4- Crie uma função que faça a conversão de uma medida inicialmente em milhas para m, e outra para o inverso; uma de horas para segundos, e o inverso. Utilize estas funções para resolver novamente o primeiro exercício da semana passada (da corrida). Se uma pessoa demora 30 minutos em 4 milhas, qual velocidade media em km/h ? e o tempo medio por kilometro?\n",
        "\n",
        "5-  Crie funções para calcular os outros exemplos das aulas anteriores: IMC, volume de uma esfera, distancia entre pontos de máximos de difração. Decida quais serão os argumentos e o valor retornado.\n"
      ]
    },
    {
      "cell_type": "code",
      "metadata": {
        "colab": {
          "base_uri": "https://localhost:8080/"
        },
        "id": "WhaBRMjwjpjF",
        "outputId": "df23a2dd-dc2f-4452-8738-9d80810ef42e"
      },
      "source": [
        "#Exercicio 1\n",
        "def tirulipa():\n",
        " \n",
        "    a = 20.0\n",
        "    print(\"argumento a\", a, \"e o tipo é\", type(\"a\"))\n",
        "\n",
        "tirulipa()"
      ],
      "execution_count": 2,
      "outputs": [
        {
          "output_type": "stream",
          "text": [
            "argumento a 20.0 e o tipo é <class 'str'>\n"
          ],
          "name": "stdout"
        }
      ]
    },
    {
      "cell_type": "code",
      "metadata": {
        "colab": {
          "base_uri": "https://localhost:8080/"
        },
        "id": "M8lYzMp5lRGI",
        "outputId": "a095f7ea-4a1e-41ec-90a7-b2e8679d0594"
      },
      "source": [
        "#Exercicio 2\n",
        "def MRU():\n",
        " \n",
        "    S_ini = 0  #m\n",
        "    S_fin = 20 #m\n",
        "    t = 5 #s\n",
        "    v = (S_ini-S_fin)/t\n",
        "    print(\"velocidade média\", v, \"m/s\")\n",
        "\n",
        "def MRUA():\n",
        "\n",
        "    a = 5 #m/s^2\n",
        "    t = 10 #s\n",
        "    v = a*t\n",
        "    print(\"velocidade\", v, \"m/s\")\n",
        "\n",
        "MRU()\n",
        "MRUA()"
      ],
      "execution_count": null,
      "outputs": [
        {
          "output_type": "stream",
          "text": [
            "velocidade média -4.0 m/s\n",
            "velocidade 50 m/s\n"
          ],
          "name": "stdout"
        }
      ]
    },
    {
      "cell_type": "code",
      "metadata": {
        "colab": {
          "base_uri": "https://localhost:8080/"
        },
        "id": "ecygpOMaob0M",
        "outputId": "750dcb7c-0f4e-4cb7-8202-b2eef0ad9805"
      },
      "source": [
        "#Exercicio 3\n",
        "\n",
        "import math\n",
        "\n",
        "def angulo_zenital():\n",
        "\n",
        "    altura_poste = 5 #m\n",
        "    sombra = 0.5 #m\n",
        "    angulo = math.degrees(math.atan(sombra/altura_poste))\n",
        "    print(\"O ângulo vale \", \"{0:.2f}\".format(angulo),\" graus\")\n",
        "\n",
        "angulo_zenital()"
      ],
      "execution_count": null,
      "outputs": [
        {
          "output_type": "stream",
          "text": [
            "O ângulo vale  5.71  graus\n"
          ],
          "name": "stdout"
        }
      ]
    },
    {
      "cell_type": "code",
      "metadata": {
        "id": "LoQjlZBXrgdb",
        "colab": {
          "base_uri": "https://localhost:8080/"
        },
        "outputId": "676a3605-fd1d-4dc8-b393-424cf0e82831"
      },
      "source": [
        "#Exercicio 4\n",
        "\n",
        "import math\n",
        "\n",
        "def km_para_milhas(km):\n",
        "    milho = km/1.61   \n",
        "    return milho \n",
        "\n",
        "def milhas_para_km(milho):\n",
        "    km = milho*1.61    \n",
        "    return km\n",
        "\n",
        "def h_para_s(h):\n",
        "    s = 60*60*h\n",
        "    return s    \n",
        "\n",
        "def s_para_h(s):\n",
        "    h = s/(60*60)\n",
        "    return h   \n",
        "\n",
        "#---------------------------------------------------------------------------------------------------------\n",
        "#Exercício da semana passada\n",
        "#---------------------------------------------------------------------------------------------------------\n",
        "print(\"Exercícios semana passada\")\n",
        "#Calculando o tempo médio por milha\n",
        "t_milha = 43.5/km_para_milhas(10)\n",
        "print(\"O tempo médio por milha é \", \"{0:.0f}\".format(t_milha), \"min\")\n",
        "\n",
        "#Velocidade média em milhas por hora\n",
        "v_med_1 = km_para_milhas(10)/s_para_h(60*43.5) # o 60 é para colocar tudo em segundos\n",
        "print(\"A velocidade média é \", \"{0:.2f}\".format(v_med_1), \"milhas/h\")\n",
        "\n",
        "#---------------------------------------------------------------------------------------------------------\n",
        "#Exercício proposto em que a pessoa vai 30 min em 4 milhas v em km h e tempo medio em h\n",
        "#---------------------------------------------------------------------------------------------------------\n",
        "print() #pula linha\n",
        "\n",
        "#Velocidade média em km por hora\n",
        "v_med_2 = milhas_para_km(4)/0.5\n",
        "print(\"A velocidade média é \", \"{0:.2f}\".format(v_med_2), \"km/h\")\n",
        "\n",
        "#tempo médio em h por km\n",
        "t_med_h = 0.5/milhas_para_km(4)\n",
        "print(\"O tempo médio por km é\", \"{0:.1f}\".format(t_med_h), \"h/km\")"
      ],
      "execution_count": 16,
      "outputs": [
        {
          "output_type": "stream",
          "text": [
            "Exercícios semana passada\n",
            "O tempo médio por milha é  7 min\n",
            "A velocidade média é  8.57 milhas/h\n",
            "\n",
            "A velocidade média é  12.88 km/h\n",
            "O tempo médio por km é 0.1 h/km\n"
          ],
          "name": "stdout"
        }
      ]
    },
    {
      "cell_type": "code",
      "metadata": {
        "id": "n21v9HCfxiqa",
        "colab": {
          "base_uri": "https://localhost:8080/"
        },
        "outputId": "997d5981-dda6-436a-d66f-30d03a98ba5f"
      },
      "source": [
        "#Exercicio 5\n",
        "import math\n",
        "\n",
        "#---------------------------------------------------------------------------------------------------------\n",
        "#IMC\n",
        "#---------------------------------------------------------------------------------------------------------\n",
        "def IMC(altura,massa):\n",
        "    imc = massa/pow(altura,2)\n",
        "    print(\"O IMC vale \", \"{0:.2f}\".format(imc),\"kg/m^2\")\n",
        "\n",
        "IMC(0.7,11)\n",
        "print()\n",
        "\n",
        "#---------------------------------------------------------------------------------------------------------\n",
        "#Volume da esfera\n",
        "#---------------------------------------------------------------------------------------------------------\n",
        "def V_esfera(raio):\n",
        "    volume =(4/3)*math.pi*pow(raio,3)\n",
        "    print(\"O volume vale \", \"{0:.2f}\".format(volume),\"m^3\")\n",
        "\n",
        "V_esfera(5)\n",
        "print()\n",
        "\n",
        "#---------------------------------------------------------------------------------------------------------\n",
        "#Difração\n",
        "#---------------------------------------------------------------------------------------------------------\n",
        "def difracao(comp_onda,D,d):\n",
        "    delta_y = (comp_onda*D)/d\n",
        "    print(\"A distancia entre pontos de máximos de difração vale \", \"{0:.3f}\".format(delta_y),\"m\")\n",
        "\n",
        "difracao(632.8*pow(10,-9),1.98, 0.250*pow(10,-3))"
      ],
      "execution_count": 25,
      "outputs": [
        {
          "output_type": "stream",
          "text": [
            "O IMC vale  22.45 kg/m^2\n",
            "\n",
            "O volume vale  523.60 m^3\n",
            "\n",
            "A distancia entre pontos de máximos de difração vale  0.005 m\n"
          ],
          "name": "stdout"
        }
      ]
    }
  ]
}