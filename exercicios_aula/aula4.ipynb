{
  "nbformat": 4,
  "nbformat_minor": 0,
  "metadata": {
    "colab": {
      "name": "aula4.ipynb",
      "provenance": [],
      "collapsed_sections": [],
      "authorship_tag": "ABX9TyPdA+qoMBqUtbAxFjzclc6y",
      "include_colab_link": true
    },
    "kernelspec": {
      "name": "python3",
      "display_name": "Python 3"
    },
    "language_info": {
      "name": "python"
    }
  },
  "cells": [
    {
      "cell_type": "markdown",
      "metadata": {
        "id": "view-in-github",
        "colab_type": "text"
      },
      "source": [
        "<a href=\"https://colab.research.google.com/github/matheusrebe/intro_python/blob/main/exercicios_aula/aula4.ipynb\" target=\"_parent\"><img src=\"https://colab.research.google.com/assets/colab-badge.svg\" alt=\"Open In Colab\"/></a>"
      ]
    },
    {
      "cell_type": "markdown",
      "metadata": {
        "id": "aiMGvwWgqBQC"
      },
      "source": [
        "Exercício 1:\n",
        "\n",
        "   Escreva uma função com um valor de retorno que:\n",
        "        tome como input dois argumentos;\n",
        "        execute a soma dos dois parâmetros que foram passados como argumento e atribua o resultado a uma variável;\n",
        "        tenha como valor de retorno o dobro da soma dos dois parâmetros.\n",
        "\n",
        "   Um objeto de função é um valor que você pode atribuir a uma variável ou passar como um argumento. Por exemplo, do_twice é uma função que usa um objeto de função como argumento e o chama duas vezes:\n"
      ]
    },
    {
      "cell_type": "code",
      "metadata": {
        "colab": {
          "base_uri": "https://localhost:8080/"
        },
        "id": "p4TqcpJup6iP",
        "outputId": "81cd9ee0-725e-4d91-8549-a41e79e1b52c"
      },
      "source": [
        "def soma_dobro(a,b): \n",
        "    \n",
        "  return 2*(a+b)\n",
        "\n",
        "soma_dobro(5,6)"
      ],
      "execution_count": 9,
      "outputs": [
        {
          "output_type": "execute_result",
          "data": {
            "text/plain": [
              "22"
            ]
          },
          "metadata": {},
          "execution_count": 9
        }
      ]
    },
    {
      "cell_type": "markdown",
      "metadata": {
        "id": "Jl7ocpF_sJDd"
      },
      "source": [
        " Exercicio 2: Um objeto de função é um valor que você pode atribuir a uma variável ou passar como um argumento. \n",
        "\n",
        "Para este exercício :\n",
        "\n",
        "a. Digite este exemplo em um script e teste-o.\n",
        "\n",
        "b. Modifique do_twice para que sejam necessários dois argumentos, um objeto de função f e um valor x, e chame a função duas vezes, passando o valor como um argumento.\n",
        "\n",
        "c. Escreva uma versão mais geral de print_spam, chamada print_twice, que use uma string como parâmetro e imprima duas vezes.\n",
        "\n",
        "d. Use a versão modificada (no item b) de do_twice para chamar print_twice duas vezes, passando 'spam' como um argumento.\n",
        "\n",
        "e. Defina uma nova função chamada do_four que recebe um objeto de função e um valor e chama a função quatro vezes, passando o valor como um parâmetro. Deve haver apenas duas declarações no corpo desta função, e não quatro.\n"
      ]
    },
    {
      "cell_type": "code",
      "metadata": {
        "colab": {
          "base_uri": "https://localhost:8080/"
        },
        "id": "SXI0uV6Xsv8S",
        "outputId": "1d849196-863a-4e44-9a94-8217bb3613f3"
      },
      "source": [
        "#letra (a)\n",
        "\n",
        "def do_twice (f): \n",
        "    f () \n",
        "    f ()\n",
        "\n",
        "def print_spam (): \n",
        "    print('spam') \n",
        "\n",
        "do_twice (print_spam)"
      ],
      "execution_count": 13,
      "outputs": [
        {
          "output_type": "stream",
          "text": [
            "spam\n",
            "spam\n"
          ],
          "name": "stdout"
        }
      ]
    },
    {
      "cell_type": "code",
      "metadata": {
        "colab": {
          "base_uri": "https://localhost:8080/"
        },
        "id": "EBdf5lnatAeb",
        "outputId": "312d0a6f-6ee8-4ca4-a4a7-500c38fdbed9"
      },
      "source": [
        "#letra b\n",
        "\n",
        "def do_twice(f,x): \n",
        "    f(x) \n",
        "    f(x)\n",
        "\n",
        "def print_spam(x): \n",
        "    print(x) \n",
        "\n",
        "do_twice (print_spam, \"spam\")"
      ],
      "execution_count": 18,
      "outputs": [
        {
          "output_type": "stream",
          "text": [
            "spam\n",
            "spam\n"
          ],
          "name": "stdout"
        }
      ]
    },
    {
      "cell_type": "code",
      "metadata": {
        "colab": {
          "base_uri": "https://localhost:8080/"
        },
        "id": "xnSKX3QxvQwf",
        "outputId": "72f1e571-f9a8-4729-87ed-8315a95c1e5b"
      },
      "source": [
        "#letra c e d\n",
        "\n",
        "def do_twice(f,x): \n",
        "    f(x) \n",
        "    f(x)\n",
        "\n",
        "def print_spam(x): \n",
        "    print(x) \n",
        "\n",
        "do_twice (print_spam, \"spam\") "
      ],
      "execution_count": 23,
      "outputs": [
        {
          "output_type": "stream",
          "text": [
            "spam\n",
            "spam\n"
          ],
          "name": "stdout"
        }
      ]
    },
    {
      "cell_type": "code",
      "metadata": {
        "colab": {
          "base_uri": "https://localhost:8080/"
        },
        "id": "NjH4krXgwhiP",
        "outputId": "50ad0c30-74b8-4c9d-9acd-676318e61ef7"
      },
      "source": [
        "#letra e\n",
        "\n",
        "def do_twice(f,x): \n",
        "    f(x) \n",
        "    f(x)\n",
        "\n",
        "def do_four(f,x): \n",
        "    do_twice(f,x)\n",
        "    do_twice(f,x)\n",
        "\n",
        "def print_spam(x): \n",
        "    print(x) \n",
        "\n",
        "do_four(print_spam, \"spam \") "
      ],
      "execution_count": 29,
      "outputs": [
        {
          "output_type": "stream",
          "text": [
            "spam \n",
            "spam \n",
            "spam \n",
            "spam \n"
          ],
          "name": "stdout"
        }
      ]
    }
  ]
}