{
  "nbformat": 4,
  "nbformat_minor": 0,
  "metadata": {
    "colab": {
      "name": "aula6.ipynb",
      "provenance": [],
      "collapsed_sections": [],
      "authorship_tag": "ABX9TyO39qs0W34i4V4/0ycLbqYW",
      "include_colab_link": true
    },
    "kernelspec": {
      "name": "python3",
      "display_name": "Python 3"
    },
    "language_info": {
      "name": "python"
    }
  },
  "cells": [
    {
      "cell_type": "markdown",
      "metadata": {
        "id": "view-in-github",
        "colab_type": "text"
      },
      "source": [
        "<a href=\"https://colab.research.google.com/github/matheusrebe/intro_python/blob/main/exercicios_aula/aula6.ipynb\" target=\"_parent\"><img src=\"https://colab.research.google.com/assets/colab-badge.svg\" alt=\"Open In Colab\"/></a>"
      ]
    },
    {
      "cell_type": "markdown",
      "metadata": {
        "id": "OHnwxAKpY0h_"
      },
      "source": [
        "\n",
        "\n",
        "1) Modifique-o para que o resultado seja um histograma, como o mostrado na figura abaixo. Amplie seu script para que seja possível passar ao programa dados (frequência), com o valor do bin (classe de frequência) e cores determinados pelo usuário.\n",
        "\n",
        "Adicione declarações condicionais à função para casos passíveis de gerar erros, como por exemplo, se alguma variável do argumento da função não for definida.\n",
        "\n",
        "Exemplo: Generalize sua função para tomar como argumento uma lista que contenha as frequências do histograma e verifique que o argumento realmente é uma lista. Caso não seja, imprima uma mensagem de erro.\n",
        "\n",
        "2) Repita o exercício 1) usando Manipulação de exceção em Python (pesquisem!!!!), com as cláusulas try e except. <=== A ser apresentado em sala de aula.\n",
        "\n",
        "2) Desafio: Faça um programa equivalente ao do item 1., utilizando matplotlib e numpy ao invés de turtle\n"
      ]
    },
    {
      "cell_type": "code",
      "metadata": {
        "id": "-wmAPhD8YvVw"
      },
      "source": [
        "#Exercício 1\n",
        "import math\n",
        "import turtle\n",
        "\n",
        "print(\"Escolha a cor interna do histograma\")\n",
        "cor_histo = input()\n",
        "\n",
        "print(\"Escolha a cor das linhas do histograma\")\n",
        "cor_linhas = input()\n",
        "\n",
        "print(\"Escreva quantos dados você deseja empregar no gráfico\")\n",
        "quanti_dados = input()\n",
        "\n",
        "if quanti_dados <=0:\n",
        "   print(\"UEPA, não faz sentido ter uma quantidade de dados dessa magnitude \", quanti_dados)\n",
        "\n",
        "print(\"Digite o bin do gráfico\")\n",
        "bin_width = input()\n",
        "\n",
        "#zerando o vetor\n",
        "#xs[i]=0\n",
        "xs = []\n",
        "for i in range(int(quanti_dados)):\n",
        "    print(\"Escreva o dado de número \", i)\n",
        "    a = input()\n",
        "    k=1 #Verificador para desenhar ou não\n",
        "    xs.append(float(a))\n",
        "    if xs[i] < 0:\n",
        "        print(\"UEPA, não tem sentido um histograma com quantidade de eventos negativa\")\n",
        "        k = 0 # Se k=1 virar k=0 ele não desenha\n",
        "        break\n",
        "      \n",
        "lisca = turtle.Turtle() \n",
        "jn = turtle.Screen()\n",
        "\n",
        "lisca.color(\"darkblue\")\n",
        "jn.bgcolor(\"lightgreen\")\n",
        "lisca.pensize(1)\n",
        "lisca.speed(10)\n",
        "lisca.hideturtle()\n",
        "\n",
        "def draw_bar(t, height):\n",
        "    \"\"\" Get turtle t to draw one bar, of height. \"\"\"\n",
        "    t.fillcolor(cor_histo)\n",
        "    t.begin_fill()\n",
        "    t.left(90)\n",
        "    t.forward(height)\n",
        "    t.fillcolor(cor_linhas)\n",
        "    t.write(height, False, align=\"left\")\n",
        "    t.fillcolor(cor_histo)\n",
        "    t.right(90)\n",
        "    t.forward(int(bin_width))\n",
        "    t.right(90)\n",
        "    t.forward(height)\n",
        "    t.left(90)\n",
        "    t.end_fill()\n",
        "   \n",
        "lisca.penup() #levantar a caneta\n",
        "lisca.goto(-200,-150) #mudar posicao de inicio \n",
        "lisca.pendown() #abaixar a caneta\n",
        "\n",
        "for a in range(int(quanti_dados)):\n",
        "    if k==1:\n",
        "      draw_bar(lisca, xs[a]) #o a é o valor armazenado pelas entradas da lista\n",
        "    else:\n",
        "      continue #faça nada, uma vez que a mensagem de erro já foi lançada\n",
        "    \n",
        "#Fechando o traçado na base do histograma\n",
        "lisca.right(180)\n",
        "lisca.forward(280)"
      ],
      "execution_count": null,
      "outputs": []
    },
    {
      "cell_type": "code",
      "metadata": {
        "id": "ENj3LuuYMytY"
      },
      "source": [
        "#Exercício 2\n",
        "\n",
        "#Exercício 1\n",
        "import math\n",
        "import turtle\n",
        "\n",
        "print(\"Escolha a cor interna do histograma\")\n",
        "cor_histo = input()\n",
        "\n",
        "print(\"Escolha a cor das linhas do histograma\")\n",
        "cor_linhas = input()\n",
        "\n",
        "print(\"Escreva quantos dados você deseja empregar no gráfico\")\n",
        "quanti_dados = input()\n",
        "\n",
        "try:\n",
        "  x=int(quanti_dados)\n",
        "except TypeError:\n",
        "  print(\"O valor da quantidade de dados deve ser um inteiro! Parando a execução...\")\n",
        "  exit() \n",
        "\n",
        "try:\n",
        "  x <= 0\n",
        "except TypeError:\n",
        "  print(\"UEPA, não faz sentido ter uma quantidade de dados dessa magnitude! Parando a execução...\")\n",
        "  exit() \n",
        "\n",
        "print(\"Digite o bin do gráfico\")\n",
        "bin_width = input()\n",
        "\n",
        "xs = []\n",
        "for i in range(int(quanti_dados)):\n",
        "    print(\"Escreva o dado de número \", i)\n",
        "    a = input()\n",
        "    xs.append(float(a))\n",
        "    try:\n",
        "     if xs[i]<0:\n",
        "      raise ValueError\n",
        "    except ValueError:\n",
        "      print(\"UEPA, não tem sentido um histograma com quantidade de eventos negativa\")\n",
        "      exit()\n",
        "      \n",
        "lisca = turtle.Turtle()\n",
        "jn = turtle.Screen()\n",
        "\n",
        "lisca.color(\"darkblue\")\n",
        "jn.bgcolor(\"lightgreen\")\n",
        "lisca.pensize(1)\n",
        "lisca.speed(10)\n",
        "lisca.hideturtle()\n",
        "\n",
        "def draw_bar(t, height):\n",
        "    \"\"\" Get turtle t to draw one bar, of height. \"\"\"\n",
        "    t.fillcolor(cor_histo)\n",
        "    t.begin_fill()\n",
        "    t.left(90)\n",
        "    t.forward(height)\n",
        "    t.fillcolor(cor_linhas)\n",
        "    t.write(height, False, align=\"left\")\n",
        "    t.fillcolor(cor_histo)\n",
        "    t.right(90)\n",
        "    t.forward(int(bin_width))\n",
        "    t.right(90)\n",
        "    t.forward(height)\n",
        "    t.left(90)\n",
        "    t.end_fill()\n",
        "   \n",
        "lisca.penup() #levantar a caneta\n",
        "lisca.goto(-200,-150) #mudar posicao de inicio \n",
        "lisca.pendown() #abaixar a caneta\n",
        "\n",
        "for a in range(int(quanti_dados)):\n",
        "    draw_bar(lisca, xs[a]) #o a é o valor armazenado pelas entradas da lista\n",
        "\n",
        "#Fechando o traçado na base do histograma\n",
        "lisca.right(180)\n",
        "lisca.forward(280)"
      ],
      "execution_count": null,
      "outputs": []
    },
    {
      "cell_type": "code",
      "metadata": {
        "colab": {
          "base_uri": "https://localhost:8080/",
          "height": 282
        },
        "id": "evjYjZfxWxVE",
        "outputId": "de4f68db-9dd1-4b67-f845-424030c7de8d"
      },
      "source": [
        "#Exercício 3\n",
        "import matplotlib.pyplot as plt\n",
        "import numpy as np\n",
        "\n",
        "n_bins=range(7)\n",
        "x =np.array([48,117,200,240,160,260,220])\n",
        "\n",
        "plt.bar(n_bins,x,width=1),\n",
        "plt.ylabel('Probability')"
      ],
      "execution_count": 28,
      "outputs": [
        {
          "output_type": "execute_result",
          "data": {
            "text/plain": [
              "Text(0, 0.5, 'Probability')"
            ]
          },
          "metadata": {},
          "execution_count": 28
        },
        {
          "output_type": "display_data",
          "data": {
            "image/png": "[encoded data removed]",
            "text/plain": [
              "<Figure size 432x288 with 1 Axes>"
            ]
          },
          "metadata": {
            "needs_background": "light"
          }
        }
      ]
    }
  ]
}