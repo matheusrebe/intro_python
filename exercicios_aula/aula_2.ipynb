{
  "nbformat": 4,
  "nbformat_minor": 0,
  "metadata": {
    "colab": {
      "name": "aula_2.ipynb",
      "provenance": [],
      "collapsed_sections": [],
      "authorship_tag": "ABX9TyMSHXZkilxJaS01OwOAztDW",
      "include_colab_link": true
    },
    "kernelspec": {
      "name": "python3",
      "display_name": "Python 3"
    },
    "language_info": {
      "name": "python"
    }
  },
  "cells": [
    {
      "cell_type": "markdown",
      "metadata": {
        "id": "view-in-github",
        "colab_type": "text"
      },
      "source": [
        "<a href=\"https://colab.research.google.com/github/matheusrebe/intro_python/blob/main/exercicios_aula/aula_2.ipynb\" target=\"_parent\"><img src=\"https://colab.research.google.com/assets/colab-badge.svg\" alt=\"Open In Colab\"/></a>"
      ]
    },
    {
      "cell_type": "markdown",
      "metadata": {
        "id": "OCvCP2fOTQzF"
      },
      "source": [
        "## Exercícios\n",
        "\n",
        "### Exercício 1:\n",
        "Considere as seguintes declarações de atribuições:\n",
        "   * largura = 17 \n",
        "   * altura = 12.0\n",
        "   * delimitador = \".\"\n",
        "   \n",
        "Para cada uma das expressões a seguir, escreva o valor das expressões e o tipo (do valor da expressão):\n",
        "1. largura/2\n",
        "1. largura/2.0\n",
        "1. altura/3\n",
        "1. 1 + 2 * 5\n",
        "1. delimitador*5\n",
        "\n",
        "Use o interpretador de python para verificar suas respostas.\n",
        "\n",
        "### Exercício 2:\n",
        "O volume de uma esfera de raio *r* é $\\frac{4}{3} \\pi r^{3}$ \n",
        "\n",
        "Qual é o volume de uma esfera de raio 5?\n",
        "\n",
        "### Exercício 3:\n",
        "Suponha que o preço de um livro seja 24.95 reais, porém as livrarias têm desconto de 40%. Os custos de envio são de 3.00 reais para o primeiro livro e 0.75 reais para os livros adicionais. Qual é o custo total da compra de 60 livros?  \n",
        "\n",
        "### Exercício 4:\n",
        "Um laser vermelho (com comprimento de onda $\\lambda = 632.8$ nm) incide em uma fenda dupla produzindo um padrão de interferência com franjas claras e escuras, em um anteparo situado a uma distância D = 1.98 m da fenda. Calcule a distância $\\Delta y$ entre dois máximos consecutivos de interferência. Considere o espaçamento entre as fendas, $d$, como sendo igual a 0.250 mm.\n",
        "*Dica: a distância entre dois máximos de interferência consecutivos pode ser aproximada por $\\Delta y = \\frac{\\lambda D}{d}$.*"
      ]
    },
    {
      "cell_type": "code",
      "metadata": {
        "id": "CDJ5bNdoTOFY"
      },
      "source": [
        "#Exercício 1\n",
        "\n",
        "#Considere as seguintes declarações de atribuições:\n",
        "\n",
        "largura = 17\n",
        "altura = 12.0\n",
        "delimitador = \".\"\n",
        "\n",
        "#Para cada uma das expressões a seguir, escreva o valor das expressões e o tipo (do valor da expressão):\n",
        "\n",
        " #   largura/2 = 8.5 , tipo float\n",
        " #   largura/2.0 = 8.5 , tipo float\n",
        " #   altura/3 = 4.0 , tipo float\n",
        " #   1 + 2 * 5 = 11 , tipo float\n",
        " #   delimitador*5 = ..... , tipo str"
      ],
      "execution_count": 35,
      "outputs": []
    },
    {
      "cell_type": "code",
      "metadata": {
        "colab": {
          "base_uri": "https://localhost:8080/"
        },
        "id": "hlUzU34EXgmZ",
        "outputId": "d1171684-3bb7-46fe-c5b9-673a77632c23"
      },
      "source": [
        "#Exercicio 2\n",
        "\n",
        "#O volume de uma esfera de raio r é $(4/3)πr^3$\n",
        "#Qual é o volume de uma esfera de raio 5?\n",
        "\n",
        "import math\n",
        "\n",
        "raio = 5\n",
        "\n",
        "volume =(4/3)*math.pi*pow(raio,3)\n",
        "\n",
        "print(\"o volume é de \", \"{0:.0f}\".format(volume))"
      ],
      "execution_count": 22,
      "outputs": [
        {
          "output_type": "stream",
          "text": [
            "o volume é de  524\n"
          ],
          "name": "stdout"
        }
      ]
    },
    {
      "cell_type": "code",
      "metadata": {
        "colab": {
          "base_uri": "https://localhost:8080/"
        },
        "id": "AVUkwRuoZrty",
        "outputId": "3cd0a80b-8bec-4daa-8121-415154ff443a"
      },
      "source": [
        "#Exercício 3:\n",
        "\n",
        "#Suponha que o preço de um livro seja 24.95 reais, porém as livrarias têm desconto de 40%. \n",
        "#Os custos de envio são de 3.00 reais para o primeiro livro e 0.75 reais para os livros adicionais. \n",
        "#Qual é o custo total da compra de 60 livros? \n",
        "\n",
        "preco_unitario = 24.95*(1-0.4)\n",
        "valor_global = preco_unitario*3 + preco_unitario*59*0.75\n",
        "\n",
        "print(\"O valor total é de \", \"{0:.2f}\".format(valor_global), \"reais\")"
      ],
      "execution_count": 34,
      "outputs": [
        {
          "output_type": "stream",
          "text": [
            "O valor total é de  707.33 reais\n"
          ],
          "name": "stdout"
        }
      ]
    },
    {
      "cell_type": "code",
      "metadata": {
        "colab": {
          "base_uri": "https://localhost:8080/"
        },
        "id": "zbtcZStcbWOw",
        "outputId": "67a076ac-4cd3-400f-b185-a10c6b87b91e"
      },
      "source": [
        "#Exercício 4:\n",
        "\n",
        "#Um laser vermelho (com comprimento de onda λ=632.8 nm) incide em uma fenda dupla produzindo um padrão de interferência com franjas claras e escuras,\n",
        "#em um anteparo situado a uma distância D = 1.98 m da fenda. Calcule a distância Δy entre dois máximos consecutivos de interferência. \n",
        "#Considere o espaçamento entre as fendas, d, como sendo igual a 0.250 mm. \n",
        "#Dica: a distância entre dois máximos de interferência consecutivos pode ser aproximada por Δy=λD/d\n",
        "\n",
        "comp_onda = 632.8*pow(10,-9) #m\n",
        "D = 1.98 #m\n",
        "d = 0.250*pow(10,-3) #m\n",
        "delta_y = (comp_onda*D)/d\n",
        "\n",
        "\n",
        "print(\"A distância entre os máximos é de \",\"{0:.0f}\".format(pow(10,3)*delta_y), \"mm\")"
      ],
      "execution_count": 30,
      "outputs": [
        {
          "output_type": "stream",
          "text": [
            "A distância entre os máximos é de  5 mm\n"
          ],
          "name": "stdout"
        }
      ]
    }
  ]
}