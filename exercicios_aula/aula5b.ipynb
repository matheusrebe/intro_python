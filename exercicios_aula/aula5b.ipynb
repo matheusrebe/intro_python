{
  "nbformat": 4,
  "nbformat_minor": 0,
  "metadata": {
    "colab": {
      "name": "aula5b.ipynb",
      "provenance": [],
      "collapsed_sections": [],
      "authorship_tag": "ABX9TyOWlleTlDbQ1mtJxjPpFeG4",
      "include_colab_link": true
    },
    "kernelspec": {
      "name": "python3",
      "display_name": "Python 3"
    },
    "language_info": {
      "name": "python"
    }
  },
  "cells": [
    {
      "cell_type": "markdown",
      "metadata": {
        "id": "view-in-github",
        "colab_type": "text"
      },
      "source": [
        "<a href=\"https://colab.research.google.com/github/matheusrebe/intro_python/blob/main/exercicios_aula/aula5b.ipynb\" target=\"_parent\"><img src=\"https://colab.research.google.com/assets/colab-badge.svg\" alt=\"Open In Colab\"/></a>"
      ]
    },
    {
      "cell_type": "markdown",
      "metadata": {
        "id": "eVdICMKF-Vfp"
      },
      "source": [
        "## Exercícios - Parte 2:\n",
        "  \n",
        "1. Escreva um conjunto apropriadamente geral de funções que possam desenhar flores como na Figura abaixo:\n",
        "![flowers](https://github.com/malbouis/Python_intro/blob/master/aulas_2019/pics/flowers.png?raw=1)\n",
        "1. Escreva um conjunto apropriadamente geral de funções que podem desenhar formas como na figura:\n",
        "![shapes](https://github.com/malbouis/Python_intro/blob/master/aulas_2019/pics/shapes_turtle.png?raw=1)\n",
        "Veja mais exercícios em: http://greenteapress.com/thinkpython2/html/thinkpython2005.html#sec42\n",
        "e: http://dfnae.fis.uerj.br/twiki/bin/view/DFNAE/IntroPython#Aula_6\n",
        "\n",
        "1. Adicione instruções para desenhar o talo e folha da flor. Faça a refatoração apropriada para a interface da flor completa ficar \"limpa\".\n",
        "1. As letras do alfabeto podem ser construídas a partir de um número moderado de elementos básicos, como linhas verticais e horizontais e algumas curvas. Projete um alfabeto que possa ser desenhado com um número mínimo de elementos básicos e depois escreva funções que desenhem as letras.\n",
        "   1. Você deve escrever uma função para cada letra, com os nomes ```draw_a_```, ```_draw_b_```, etc., e colocar suas funções em um arquivo chamado ```letters.py```. Você pode baixar uma “turtle typewriter” de http://thinkpython2.com/code/typewriter.py para ajudá-lo a testar seu código.\n",
        "   1. Você pode obter uma solução em http://thinkpython2.com/code/letters.py; também requer http://thinkpython2.com/code/polygon.py.\n",
        "1. Leia sobre espirais em http://en.wikipedia.org/wiki/Spiral; em seguida, escreva um programa que desenhe uma espiral arquimediana (ou um dos outros tipos). Solução: http://thinkpython2.com/code/spiral.py."
      ]
    },
    {
      "cell_type": "code",
      "metadata": {
        "id": "9OQuBI0J-S5_"
      },
      "source": [
        "#Exercícios - Parte 1\n",
        "\n",
        "#Feitas integralmente na aula 5"
      ],
      "execution_count": null,
      "outputs": []
    },
    {
      "cell_type": "code",
      "metadata": {
        "id": "knpMuYR--t2C"
      },
      "source": [
        "#Exercícios - Parte 2\n",
        "#Exercício 1\n",
        "\n",
        "import turtle # nos permite usar as tartarugas (turtles)\n",
        "import math\n",
        "\n",
        "jn = turtle.Screen()         # Configurar a janela e seus atributos\n",
        "jn.bgcolor(\"lightgreen\")\n",
        "\n",
        "joana = turtle.Turtle() # Criar e configurar alguns atributos de joana\n",
        "joana.hideturtle()\n",
        "joana.color(\"hotpink\")\n",
        "joana.pensize(3)\n",
        "joana.speed(7)\n",
        "\n",
        "def arc(t, r, angle):\n",
        "    from math import pi\n",
        "    n = int(r) + 30\n",
        "    length = (((angle*pi)/180)*r)/n\n",
        "    for i in range(n):\n",
        "        t.forward(length)\n",
        "        t.right(angle/n)  \n",
        "\n",
        "def petal(t, length_petala, angle_petala):\n",
        "    r = length_petala/(2*math.sin(math.radians(angle_petala)/2))\n",
        "    for i in range(2):\n",
        "      arc(t, r, angle_petala)\n",
        "      t.right(180 - angle_petala)\n",
        "\n",
        "def flower(t, length_petala = 70, angle_petala = 70, n_petalas = 7):\n",
        "    for i in range(n_petalas):\n",
        "        petal(t, length_petala, angle_petala)\n",
        "        t.right(360/n_petalas)\n",
        "    \n",
        "flower(joana)"
      ],
      "execution_count": null,
      "outputs": []
    },
    {
      "cell_type": "code",
      "metadata": {
        "id": "Erc2BehuzKFX"
      },
      "source": [
        "#Exercício 2\n",
        "\n",
        "import turtle # nos permite usar as tartarugas (turtles)\n",
        "import math\n",
        "\n",
        "n = 5\n",
        "length = 70\n",
        "\n",
        "jn = turtle.Screen()         # Configurar a janela e seus atributos\n",
        "jn.bgcolor(\"lightgreen\")\n",
        "\n",
        "joana = turtle.Turtle() # Criar e configurar alguns atributos de joana\n",
        "joana.hideturtle()\n",
        "joana.color(\"hotpink\")\n",
        "joana.pensize(3)\n",
        "joana.speed(7)\n",
        "\n",
        "def triangle(t, length, n):\n",
        "    alfa = 360/n\n",
        "    beta = (180 - alfa)/2\n",
        "    length2 = length/(2*math.sin(math.radians(alfa)/2))\n",
        "    t.speed(6)\n",
        "    t.forward(length2)\n",
        "    t.right(180 - beta)\n",
        "    t.forward(length)\n",
        "    t.right(180 - beta) \n",
        "    t.forward(length2)\n",
        "    t.right(180 - alfa)\n",
        "\n",
        "def polytri(t,length, n):\n",
        "    for i in range(n): \n",
        "        triangle(t, length, n)\n",
        "        t.right(360/n) \n",
        "\n",
        "polytri(joana,length,n)"
      ],
      "execution_count": null,
      "outputs": []
    }
  ]
}