{
  "nbformat": 4,
  "nbformat_minor": 0,
  "metadata": {
    "colab": {
      "name": "aula_1.ipynb",
      "provenance": [],
      "collapsed_sections": [],
      "authorship_tag": "ABX9TyNTlduKhDZB7gf8huRWJLjH",
      "include_colab_link": true
    },
    "kernelspec": {
      "name": "python3",
      "display_name": "Python 3"
    },
    "language_info": {
      "name": "python"
    }
  },
  "cells": [
    {
      "cell_type": "markdown",
      "metadata": {
        "id": "view-in-github",
        "colab_type": "text"
      },
      "source": [
        "<a href=\"https://colab.research.google.com/github/matheusrebe/intro_python/blob/main/exercicios_aula/aula_1.ipynb\" target=\"_parent\"><img src=\"https://colab.research.google.com/assets/colab-badge.svg\" alt=\"Open In Colab\"/></a>"
      ]
    },
    {
      "cell_type": "markdown",
      "metadata": {
        "id": "A5QhGuhQ5vyf"
      },
      "source": [
        "1- Se você fizer uma corrida de 10 quilômetros em 43 minutos e 30 segundos, qual será seu tempo médio por milha? Qual é a sua velocidade média em milhas por hora? (Dica: há 1,61 quilômetros em uma milha). "
      ]
    },
    {
      "cell_type": "markdown",
      "metadata": {
        "id": "bZbujO8L6GLQ"
      },
      "source": [
        "Como 1 km = 1,61 milha, podemos fazer a seguinte conta"
      ]
    },
    {
      "cell_type": "code",
      "metadata": {
        "colab": {
          "base_uri": "https://localhost:8080/"
        },
        "id": "qLcoN4vn51dL",
        "outputId": "84f207ea-3002-4653-96e3-e7226d2557d6"
      },
      "source": [
        "43.5/(10/1.61) #O termo entre parênteses é a conversão de quilometros para milhas"
      ],
      "execution_count": null,
      "outputs": [
        {
          "output_type": "execute_result",
          "data": {
            "text/plain": [
              "7.003500000000001"
            ]
          },
          "metadata": {
            "tags": []
          },
          "execution_count": 22
        }
      ]
    },
    {
      "cell_type": "markdown",
      "metadata": {
        "id": "bsjEROzN6OcA"
      },
      "source": [
        "A velocidade média será:"
      ]
    },
    {
      "cell_type": "code",
      "metadata": {
        "colab": {
          "base_uri": "https://localhost:8080/"
        },
        "id": "74fzV4Xj6PXX",
        "outputId": "2ff4a3c4-0c92-424a-ea56-8842708480dd"
      },
      "source": [
        "(10/1.61)*60/43.5 # 43.5/60 foi reescrito da forma final já para obter o valor correto"
      ],
      "execution_count": null,
      "outputs": [
        {
          "output_type": "execute_result",
          "data": {
            "text/plain": [
              "8.567144998929106"
            ]
          },
          "metadata": {
            "tags": []
          },
          "execution_count": 23
        }
      ]
    },
    {
      "cell_type": "markdown",
      "metadata": {
        "id": "GVYAQNM_QBVl"
      },
      "source": [
        "A velocidade média será de 8.567144998929106 m/s"
      ]
    },
    {
      "cell_type": "markdown",
      "metadata": {
        "id": "pa_0gBcqqk7_"
      },
      "source": [
        "2- Desde sua varanda você escuta o som do primeiro fogo artificial do reveillon 3 segundos depois de ver a luz, qual a distância? (o som tem velocidade 343 m/s e a luz $3\\times 10^8$ m/s)."
      ]
    },
    {
      "cell_type": "markdown",
      "metadata": {
        "id": "SjYUEYJcq_hM"
      },
      "source": [
        "\n",
        "Como a velocidade da luz é gigantesca comparada a do som e levando em consideração que a visão humana tem uma visibilidade de até 10 km na nossa atmosfera, podemos considerar que o tempo que leva para visualizar o raio é 0 e basicamente o que será calculado é a distância que o som percorre em 3 s."
      ]
    },
    {
      "cell_type": "code",
      "metadata": {
        "colab": {
          "base_uri": "https://localhost:8080/"
        },
        "id": "eO1U0ZQGqKD4",
        "outputId": "26f2f7aa-f364-48e7-a1e9-11f76954de4d"
      },
      "source": [
        "v=343 #m/s\n",
        "t=3 #s\n",
        "\n",
        "print(\"A distância é de \",v*t, \"m\")"
      ],
      "execution_count": null,
      "outputs": [
        {
          "output_type": "stream",
          "text": [
            "A distância é de  1029 m\n"
          ],
          "name": "stdout"
        }
      ]
    },
    {
      "cell_type": "markdown",
      "metadata": {
        "id": "5ADhIxCErxTP"
      },
      "source": [
        "A distância é de  1029 m"
      ]
    },
    {
      "cell_type": "markdown",
      "metadata": {
        "id": "7vYKILKusTNG"
      },
      "source": [
        "3- Ache os zeros da função\n",
        "\n",
        " y = $3x^2-4x -10 $"
      ]
    },
    {
      "cell_type": "markdown",
      "metadata": {
        "id": "h4FNAIw2sY-a"
      },
      "source": [
        "\n",
        "A fórmula de Bashkara é x=$\\frac{-b \\pm \\sqrt(b^2-4ac))}{2a}$"
      ]
    },
    {
      "cell_type": "markdown",
      "metadata": {
        "id": "nSrWCGCmwE7I"
      },
      "source": [
        "O termo entre raiz é negativo, então teremos um número complexo w+iv\n",
        "\n",
        "calculando então w e v:"
      ]
    },
    {
      "cell_type": "code",
      "metadata": {
        "colab": {
          "base_uri": "https://localhost:8080/"
        },
        "id": "_VUgL5_0w7M4",
        "outputId": "166a2b36-52b5-40a0-ef62-b9a66a3e77cd"
      },
      "source": [
        "import math\n",
        "\n",
        "a=3\n",
        "b=-4\n",
        "c=-10\n",
        "\n",
        "w=(-b+math.sqrt(b**2-4*a*c))/(2*a)\n",
        "v=(-b-math.sqrt(b**2-4*a*c))/(2*a)\n",
        "\n",
        "print(\"As raízes valem \", '{:}'w, \"e\", v)"
      ],
      "execution_count": null,
      "outputs": [
        {
          "output_type": "stream",
          "text": [
            "As raízes valem  2.610317298281767 e -1.2769839649484336\n"
          ],
          "name": "stdout"
        }
      ]
    },
    {
      "cell_type": "markdown",
      "metadata": {
        "id": "t-bi4CvIz8Xe"
      },
      "source": [
        "As raízes valem  2.610317298281767 e -1.2769839649484336"
      ]
    },
    {
      "cell_type": "markdown",
      "metadata": {
        "id": "K8A_wnWh7L2Z"
      },
      "source": [
        "4- Se, ao meio dia, a sombra de um poste de 5 m de altura tem apenas 50 cm de comprimento no chão, qual o ângulo zenital do sol? "
      ]
    },
    {
      "cell_type": "markdown",
      "metadata": {
        "id": "5dTsxWO77bcC"
      },
      "source": [
        "Por semelhança de triangulos temos que o ângulo zenital do sol é o mesmo do formaldo pelo cateto da projeção da sombra e da altura do poste. Desse modo para obter o seno precisamos calculara a hipotenusa por pitágoras."
      ]
    },
    {
      "cell_type": "code",
      "metadata": {
        "colab": {
          "base_uri": "https://localhost:8080/"
        },
        "id": "ruV9RD3S7TJx",
        "outputId": "61ef4713-b80f-4f50-b6d8-d4a2f7a287f6"
      },
      "source": [
        "import math\n",
        "\n",
        "b=5 #m\n",
        "c=0.5 #50 cm\n",
        "\n",
        "a=math.sqrt(pow(b,2)+pow(c,2))\n",
        "\n",
        "print(\"A hipotenusa vale \", a, \"m\")\n",
        "\n",
        "#Agora então queremos o arcseno disso.\n",
        "\n",
        "zenital=math.degrees(math.asin(0.5/a))\n",
        "\n",
        "print(\"O ângulo zenital é\", zenital, \"graus\")"
      ],
      "execution_count": null,
      "outputs": [
        {
          "output_type": "stream",
          "text": [
            "A hipotenusa vale  5.024937810560445 m\n",
            "O ângulo zenital é 5.710593137499642 graus\n"
          ],
          "name": "stdout"
        }
      ]
    },
    {
      "cell_type": "markdown",
      "metadata": {
        "id": "deaLw7pe-hUM"
      },
      "source": [
        "Portanto o ângulo zenital é 0.09966865249116202 rad\n",
        "O ângulo zenital é 5.710593137499642 graus"
      ]
    },
    {
      "cell_type": "code",
      "metadata": {
        "colab": {
          "base_uri": "https://localhost:8080/"
        },
        "id": "dXXjrKY586jI",
        "outputId": "d60591cf-d00f-436b-a0f7-bd89bc99ccc3"
      },
      "source": [
        "import math\n",
        "\n",
        "help('math.asin') #Como o ângulo está em radianos o feito anterior está dimencionalmente ok!"
      ],
      "execution_count": null,
      "outputs": [
        {
          "output_type": "stream",
          "text": [
            "Help on built-in function asin in math:\n",
            "\n",
            "math.asin = asin(x, /)\n",
            "    Return the arc sine (measured in radians) of x.\n",
            "\n"
          ],
          "name": "stdout"
        }
      ]
    },
    {
      "cell_type": "markdown",
      "metadata": {
        "id": "2y0Iypdt-p5l"
      },
      "source": [
        "5-Calcule o seu IMC: IMC = M / $A^2$ (com a massa em Kg e a altura em metros). Um valor saudável estara --em geral-- entre 20-25. Um bebê de 6 meses \"gorducho\" tem 70 cm de \"comprimento\" e 11 kg de massa, qual o IMC dele? "
      ]
    },
    {
      "cell_type": "code",
      "metadata": {
        "colab": {
          "base_uri": "https://localhost:8080/"
        },
        "id": "WmnU9QMX-01G",
        "outputId": "1ecbac28-fde9-42f0-a468-238bd445d6c4"
      },
      "source": [
        "#Calculando o IMC\n",
        "\n",
        "i=11/pow(0.7,2) #0.7 é 70 cm em metros\n",
        "\n",
        "print(\"O IMC deu \", i)"
      ],
      "execution_count": null,
      "outputs": [
        {
          "output_type": "stream",
          "text": [
            "O IMC deu  22.44897959183674\n"
          ],
          "name": "stdout"
        }
      ]
    },
    {
      "cell_type": "markdown",
      "metadata": {
        "id": "L-OA7IUi_xvJ"
      },
      "source": [
        "O IMC deu  22.44897959183674, logo ele está na faixa saudável"
      ]
    },
    {
      "cell_type": "markdown",
      "metadata": {
        "id": "7tga0MqC_3pv"
      },
      "source": [
        "6- Calcule a velocidade final de um objeto em queda livre a partir de 3 metros de altura (sem resistencia do ar). Calcule o tempo que esse objeto demora para cair. "
      ]
    },
    {
      "cell_type": "code",
      "metadata": {
        "colab": {
          "base_uri": "https://localhost:8080/"
        },
        "id": "MG0dS2YEAG7A",
        "outputId": "26971fb1-6527-42ab-f7df-536aa6793ec9"
      },
      "source": [
        "#A equação da queda livre que relaciona as velocidades é dada por v=v0+gt, adotando o refrencial no sentido da queda. Podemos inclusive reduzi-la a v=gt\n",
        "#Relacionando a posição sob mesmo referencial temos S=(gt^2)/2\n",
        "\n",
        "#Primeiro achando o tempo que leva a queda.\n",
        "import math\n",
        "\n",
        "g=9.8 #m/s^2\n",
        "S=3 #m\n",
        "\n",
        "t=math.sqrt((2*S)/g)\n",
        "\n",
        "#Usando isso para a equação das velocidades\n",
        "\n",
        "v=g*t\n",
        "\n",
        "print(\"A velocidade final é \", v)\n",
        "print(\"O tempo de queda é \", t)"
      ],
      "execution_count": null,
      "outputs": [
        {
          "output_type": "stream",
          "text": [
            "A velocidade final é  7.6681158050723255\n",
            "O tempo de queda é  0.7824607964359516\n"
          ],
          "name": "stdout"
        }
      ]
    },
    {
      "cell_type": "markdown",
      "metadata": {
        "id": "ITrf5t08Pi7z"
      },
      "source": [
        "A velocidade final é  7.6681158050723255 m/s\n",
        "\n",
        "O tempo de queda é  0.7824607964359516 s"
      ]
    }
  ]
}