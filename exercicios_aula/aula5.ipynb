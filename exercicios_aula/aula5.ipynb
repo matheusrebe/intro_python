{
  "nbformat": 4,
  "nbformat_minor": 0,
  "metadata": {
    "colab": {
      "name": "aula5.ipynb",
      "provenance": [],
      "collapsed_sections": [],
      "authorship_tag": "ABX9TyOsWeQwkn1pHFnIzpzD4V+Q",
      "include_colab_link": true
    },
    "kernelspec": {
      "name": "python3",
      "display_name": "Python 3"
    },
    "language_info": {
      "name": "python"
    }
  },
  "cells": [
    {
      "cell_type": "markdown",
      "metadata": {
        "id": "view-in-github",
        "colab_type": "text"
      },
      "source": [
        "<a href=\"https://colab.research.google.com/github/matheusrebe/intro_python/blob/main/exercicios_aula/aula5.ipynb\" target=\"_parent\"><img src=\"https://colab.research.google.com/assets/colab-badge.svg\" alt=\"Open In Colab\"/></a>"
      ]
    },
    {
      "cell_type": "markdown",
      "metadata": {
        "id": "vOxy9eVYZPvl"
      },
      "source": [
        "### Exercícios:\n",
        "1. Modifique o programa da tartaruga (primeiro exemplo) para que, antes de criar a janela, ele solicite que o usuário insira a cor de fundo desejada. Ele deve armazenar as respostas do usuário em uma variável e modificar a cor da janela de acordo com os desejos do usuário. \n",
        "   * ***Dicas***: faça uso da função ***input***, built-in do python\n",
        "   * você pode encontrar uma lista de nomes de cores permitidos em http://www.tcl.tk/man/tcl8.4/TkCmd/colors.htm. Inclui alguns bem incomuns, como “peach puff” e “HotPink” ”***\n",
        "   \n",
        "1. Faça modificações similares para permitir que o usuário mude a cor da tartaruga durante a execução do programa.\n",
        "   1. Faça o mesmo para a largura da caneta da tartaruga. *Dica: seu diálogo com o usuário retornará uma string, mas o método **pensize** espera que seu argumento seja um **int**. Então, você precisará converter a **string** em um **int** antes de passá-la para **pensize**.*   \n",
        "   \n",
        "1. Investiguem os métodos e tipos do módulo turtle;\n",
        "\n",
        "1. Desenhe um quadrado, usando a forma de tartaruga, ao invés da flecha, para desenhar.\n",
        "   1. mude a velocidade com que a tartaruga faz o desenho\n",
        "   \n",
        "1. Sabendo que o ângulo interno da ponta de uma estrela de 5 pontas é de 36 graus, desenhe uma estrela em uma janela.\n",
        "![title](https://github.com/malbouis/Python_intro/blob/master/aulas_2019/pics/estrela.png?raw=1)\n",
        "\n",
        "1. Sabendo o ângulo interno da ponta de uma estrela, desenhe quatro estrelas em uma janela, com uma certa distância entre elas. Dica: use a função penup() e pendown() do módulo turtle"
      ]
    },
    {
      "cell_type": "code",
      "metadata": {
        "id": "PuGh2cOhNHsO"
      },
      "source": [
        "#exercicio 1\n",
        "import turtle # nos permite usar as tartarugas (turtles)\n",
        "\n",
        "print(\"Me fala ai a cor de fundo da tela que você deseja, meu patrão! Entre aspas eim!\")\n",
        "cor_de_fundo = input()\n",
        "\n",
        "jn = turtle.Screen()      # Abre uma janela onde as tartarugas vão caminhar\n",
        "joana = turtle.Turtle()   # Cria uma tartaruga, atribui a joana\n",
        "jn.bgcolor(cor_de_fundo)\n",
        "\n",
        "joana.color(\"blue\")\n",
        "joana.forward(50)          # diz para joana andar para frente por 50 unidades\n",
        "joana.left(90)             # diz para joana virar de 90 graus\n",
        "joana.forward(30)          # Completa o segundo lado do retângulo\n",
        "\n",
        "jn.mainloop()             # Espera o usuário fechar a janela"
      ],
      "execution_count": null,
      "outputs": []
    },
    {
      "cell_type": "code",
      "metadata": {
        "id": "3uM5hQd0P_wS"
      },
      "source": [
        "#exercicio 2\n",
        "import turtle # nos permite usar as tartarugas (turtles)\n",
        "\n",
        "print(\"Me fala ai a cor de fundo da tela que você deseja, meu patrão!\")\n",
        "cor_de_fundo = input()\n",
        "print(\"Me fala ai a cor da tartaruga que você deseja, meu confrade!\")\n",
        "cor_da_tartarug = input()\n",
        "print(\"Me fala ai a largura da linha, meu predestinado!\")\n",
        "tamanho_linha = input()\n",
        "\n",
        "jn = turtle.Screen()      # Abre uma janela onde as tartarugas vão caminhar\n",
        "jn.bgcolor(cor_de_fundo)\n",
        "\n",
        "maicosuel = turtle.Turtle()   # Cria uma tartaruga, atribui a joana\n",
        "\n",
        "maicosuel.pensize(int(tamanho_linha))\n",
        "maicosuel.color(cor_da_tartarug)\n",
        "maicosuel.forward(50)          # diz para joana andar para frente por 50 unidades\n",
        "maicosuel.left(90)             # diz para joana virar de 90 graus\n",
        "maicosuel.forward(30)          # Completa o segundo lado do retângulo\n",
        "\n",
        "jn.mainloop()             # Espera o usuário fechar a janela"
      ],
      "execution_count": null,
      "outputs": []
    },
    {
      "cell_type": "code",
      "metadata": {
        "id": "wJ_RrT_oQCCG"
      },
      "source": [
        "#Exercicio 4\n",
        "import turtle # nos permite usar as tartarugas (turtles)\n",
        "\n",
        "print(\"Me fala ai a cor de fundo da tela que você deseja, meu patrão!\")\n",
        "cor_de_fundo = input()\n",
        "print(\"Me fala ai a cor da tartaruga que você deseja, meu confrade!\")\n",
        "cor_da_tartarug = input()\n",
        "print(\"Me fala ai a largura da linha, meu predestinado!\")\n",
        "tamanho_linha = input()\n",
        "print(\"Me fala ai a velocidade da tortuga aí, meu consagrado!\")\n",
        "velocidade = input()\n",
        "\n",
        "jn = turtle.Screen()      # Abre uma janela onde as tartarugas vão caminhar\n",
        "jn.bgcolor(cor_de_fundo)\n",
        "turtle.shape(\"turtle\")\n",
        "\n",
        "maicosuel = turtle.Turtle()   # Cria uma tartaruga, atribui a joana\n",
        "\n",
        "maicosuel.speed(int(velocidade))\n",
        "maicosuel.pensize(int(tamanho_linha))\n",
        "maicosuel.color(cor_da_tartarug)\n",
        "maicosuel.forward(50)          # diz para joana andar para frente por 50 unidades\n",
        "maicosuel.left(90)             # diz para joana virar de 90 graus\n",
        "maicosuel.forward(50)          # Completa o segundo lado do retângulo\n",
        "maicosuel.left(90)             # diz para joana virar de 90 graus\n",
        "maicosuel.forward(50)          # Completa o segundo lado do retângulo\n",
        "maicosuel.left(90)             # diz para joana virar de 90 graus\n",
        "maicosuel.forward(50)          # Completa o segundo lado do retângulo\n",
        "\n",
        "jn.mainloop()             # Espera o usuário fechar a janela"
      ],
      "execution_count": null,
      "outputs": []
    },
    {
      "cell_type": "code",
      "metadata": {
        "id": "7znPc4j2ZHsG"
      },
      "source": [
        "#Exercicio 5\n",
        "\n",
        "import turtle\n",
        "jn = turtle.Screen()         # Configurar a janela e seus atributos\n",
        "jn.bgcolor(\"lightblue\")\n",
        "#jn.title(\"Tess & Alex\")\n",
        "\n",
        "zeca = turtle.Turtle()       # Criar e configurar alguns atributos de zeca\n",
        "zeca.color(\"hotpink\")\n",
        "zeca.pensize(5)\n",
        "\n",
        "zeca.forward(80)             # Fazer zeca desenhar um triângulo equilátero\n",
        "zeca.left(180-36)\n",
        "zeca.forward(80)\n",
        "zeca.left(180-36)             # Completar o triângulo\n",
        "zeca.forward(80)             # Fazer zeca desenhar um triângulo equilátero\n",
        "zeca.left(180-36)\n",
        "zeca.forward(80)\n",
        "zeca.left(180-36)\n",
        "zeca.forward(80)\n",
        "zeca.left(180-36)\n",
        "\n",
        "jn.mainloop()"
      ],
      "execution_count": null,
      "outputs": []
    },
    {
      "cell_type": "code",
      "metadata": {
        "id": "EIx6oz2SWtUw"
      },
      "source": [
        "#exercicio 6\n",
        "import turtle # nos permite usar as tartarugas (turtles)\n",
        "\n",
        "jn = turtle.Screen()         # Configurar a janela e seus atributos\n",
        "jn.bgcolor(\"lightblue\")\n",
        "#jn.title(\"Tess & Alex\")\n",
        "\n",
        "zeca = turtle.Turtle()       # Criar e configurar alguns atributos de zeca\n",
        "zeca.color(\"hotpink\")\n",
        "zeca.pensize(5)\n",
        "zeca.speed(7)\n",
        "\n",
        "zeca.forward(80)             # Fazer zeca desenhar um triângulo equilátero\n",
        "zeca.left(180-36)\n",
        "zeca.forward(80)\n",
        "zeca.left(180-36)             # Completar o triângulo\n",
        "zeca.forward(80)             # Fazer zeca desenhar um triângulo equilátero\n",
        "zeca.left(180-36)\n",
        "zeca.forward(80)\n",
        "zeca.left(180-36)\n",
        "zeca.forward(80)\n",
        "\n",
        "zeca.penup()\n",
        "zeca.forward(30)\n",
        "zeca.pendown()\n",
        "\n",
        "zeca.forward(80) # Fazer zeca desenhar um triângulo equilátero\n",
        "zeca.left(180-36)\n",
        "zeca.forward(80)\n",
        "zeca.left(180-36)             # Completar o triângulo\n",
        "zeca.forward(80)             # Fazer zeca desenhar um triângulo equilátero\n",
        "zeca.left(180-36)\n",
        "zeca.forward(80)\n",
        "zeca.left(180-36)\n",
        "zeca.forward(80)\n",
        "\n",
        "zeca.penup()\n",
        "zeca.forward(60)\n",
        "zeca.pendown()\n",
        "\n",
        "zeca.forward(80) # Fazer zeca desenhar um triângulo equilátero\n",
        "zeca.left(180-36)\n",
        "zeca.forward(80)\n",
        "zeca.left(180-36)             # Completar o triângulo\n",
        "zeca.forward(80)             # Fazer zeca desenhar um triângulo equilátero\n",
        "zeca.left(180-36)\n",
        "zeca.forward(80)\n",
        "zeca.left(180-36)\n",
        "zeca.forward(80)\n",
        "\n",
        "zeca.penup()\n",
        "zeca.forward(100)\n",
        "zeca.pendown()\n",
        "\n",
        "zeca.forward(80) # Fazer zeca desenhar um triângulo equilátero\n",
        "zeca.left(180-36)\n",
        "zeca.forward(80)\n",
        "zeca.left(180-36)             # Completar o triângulo\n",
        "zeca.forward(80)             # Fazer zeca desenhar um triângulo equilátero\n",
        "zeca.left(180-36)\n",
        "zeca.forward(80)\n",
        "zeca.left(180-36)\n",
        "zeca.forward(80)\n",
        "\n",
        "jn.mainloop()"
      ],
      "execution_count": null,
      "outputs": []
    },
    {
      "cell_type": "markdown",
      "metadata": {
        "id": "Fr6NsFl_WYmR"
      },
      "source": [
        "### Exercícios em preparação para os próximos capítulos\n",
        "\n",
        "1. Escreva uma função chamada `square`, que toma um parâmetro `t`, que é uma `Turtle`. Essa função deve usar o `turtle` para desenhar um quadrado. Escreva uma chamada de função que passe `joana` como argumento para `square` e rode o programa novamente. \n",
        "\n",
        "1. Adicione um outro parâmetro, chamado `length`, à função `square`. Modifique o corpo da função de tal forma que o comprimento dos lados do quadrado seja `length` e então modifique a chamada da função para que seja passado o segundo argumento. Rode o programa novamente. Teste o seu programa com diversos valores para `length`.\n",
        "\n",
        "1. Faça uma cópia da função `square` e mude o nome para `polygon`. Adicione um outro parâmetro chamado `n` e modifique o corpo da função para que ela desenhe um polígono regular de `n` lados. Dica: Os ângulos externos de um polígono regular de `n` lados são de `360/n` graus.  \n",
        "\n",
        "1. Escreva uma função chamada `circle` que toma como argumento uma `Turtle`, `t`, e um raio, `r`, e desenha um círculo aproximado ao chamar a função `polygon` com `length` e número `n` de lados apropriados. Teste sua função com um intervalo de valores de `r`. Dica: Determine a circunferência do círculo e se certifique que `comprimento * n = circunferência`.\n",
        "\n",
        "1. Faça uma versão mais geral da função `circle`, chamada `arc`, que toma um parâmetro adicional, `angle`, que determina qual a fração do circulo a ser desenhada. `angle` está em unidades de graus, logo quando `angle=360`, a função `arc` deve desenhar um cículo completo.\n"
      ]
    },
    {
      "cell_type": "code",
      "metadata": {
        "id": "0tD3wuplZuBy"
      },
      "source": [
        "#Exercício 1\n",
        "import turtle # nos permite usar as tartarugas (turtles)\n",
        "\n",
        "jn = turtle.Screen()         # Configurar a janela e seus atributos\n",
        "jn.bgcolor(\"lightblue\")\n",
        "\n",
        "joana = turtle.Turtle()       # Criar e configurar alguns atributos de joana\n",
        "joana.color(\"hotpink\")\n",
        "joana.pensize(5)\n",
        "joana.speed(5)\n",
        "\n",
        "def square(t):\n",
        "  t.forward(80)             \n",
        "  t.left(90)\n",
        "  t.forward(80)             \n",
        "  t.left(90)\n",
        "  t.forward(80)             \n",
        "  t.left(90)\n",
        "  t.forward(80)\n",
        "\n",
        "square(joana)\n",
        "\n",
        "jn.mainloop()"
      ],
      "execution_count": null,
      "outputs": []
    },
    {
      "cell_type": "code",
      "metadata": {
        "id": "7VsOD8c6sa-J"
      },
      "source": [
        "#Exercício 2\n",
        "\n",
        "import turtle # nos permite usar as tartarugas (turtles)\n",
        "\n",
        "print(\"Me fala o tamanho do lado do quadrado\")\n",
        "lenght =input()\n",
        "\n",
        "jn = turtle.Screen()         # Configurar a janela e seus atributos\n",
        "jn.bgcolor(\"lightblue\")\n",
        "\n",
        "joana = turtle.Turtle()       # Criar e configurar alguns atributos de joana\n",
        "joana.color(\"hotpink\")\n",
        "joana.pensize(5)\n",
        "joana.speed(5)\n",
        "\n",
        "def square(t,lenght):\n",
        "  t.forward(lenght)             \n",
        "  t.left(90)\n",
        "  t.forward(lenght)             \n",
        "  t.left(90)\n",
        "  t.forward(lenght)             \n",
        "  t.left(90)\n",
        "  t.forward(lenght)\n",
        "\n",
        "square(joana,lenght)\n",
        "\n",
        "jn.mainloop()"
      ],
      "execution_count": null,
      "outputs": []
    },
    {
      "cell_type": "code",
      "metadata": {
        "id": "0vZo1NDxxUAy"
      },
      "source": [
        "#Exercício 3\n",
        "\n",
        "import turtle # nos permite usar as tartarugas (turtles)\n",
        "\n",
        "print(\"Me fala o número de lados do poligono\")\n",
        "n_lado = input()\n",
        "angulo_externo = 360/int(n_lado)\n",
        "\n",
        "print(\"Me fala o tamanho do lado do poligono\")\n",
        "lenght = input()\n",
        "\n",
        "jn = turtle.Screen()         # Configurar a janela e seus atributos\n",
        "jn.bgcolor(\"blue\")\n",
        "\n",
        "joana = turtle.Turtle()       # Criar e configurar alguns atributos de joana\n",
        "joana.color(\"red\")\n",
        "joana.pensize(5)\n",
        "joana.speed(5)\n",
        "\n",
        "def polygon(t,lenght, n_lado):\n",
        "    for n in range(int(n_lado)+1): #o n+1 é porque o range atua no intervalo aberto no limite superior\n",
        "      t.forward(lenght)           \n",
        "      t.left(angulo_externo)\n",
        "\n",
        "polygon(joana,lenght,n_lado)\n",
        "\n",
        "jn.mainloop()"
      ],
      "execution_count": null,
      "outputs": []
    },
    {
      "cell_type": "code",
      "metadata": {
        "colab": {
          "base_uri": "https://localhost:8080/"
        },
        "id": "vxBYW5oI1qPE",
        "outputId": "1149a30c-2c66-4b45-88fc-5e6657af22d2"
      },
      "source": [
        "#Exercíco 4\n",
        "\n",
        "import turtle # nos permite usar as tartarugas (turtles)\n",
        "import math\n",
        "\n",
        "print(\"Me fala o número de lados do poligono\")\n",
        "n_lado = input() # lado 20 junto de r=80 são boas escolhas\n",
        "angulo_externo = 360/int(n_lado)\n",
        "\n",
        "print(\"Me fala o raio do circulo\")\n",
        "r = input()\n",
        "\n",
        "jn = turtle.Screen()         # Configurar a janela e seus atributos\n",
        "jn.bgcolor(\"blue\")\n",
        "\n",
        "joana = turtle.Turtle()       # Criar e configurar alguns atributos de joana\n",
        "joana.color(\"red\")\n",
        "joana.pensize(5)\n",
        "joana.speed(5)\n",
        "\n",
        "def polygon(t,lenght, n_lado):\n",
        "    for n in range(int(n_lado)+1): #o n+1 é porque o range atua no intervalo aberto no limite superior\n",
        "      t.forward(lenght)             \n",
        "      t.left(angulo_externo)\n",
        "\n",
        "def circle(t,r):\n",
        "    lenght = (2*math.pi*int(r))/int(n_lado) # calcula o lado do polígono\n",
        "    polygon(t,lenght,n_lado)\n",
        "\n",
        "circle(joana,r)\n",
        "\n",
        "jn.mainloop()"
      ],
      "execution_count": null,
      "outputs": [
        {
          "output_type": "execute_result",
          "data": {
            "text/plain": [
              "3.141592653589793"
            ]
          },
          "metadata": {},
          "execution_count": 1
        }
      ]
    },
    {
      "cell_type": "code",
      "metadata": {
        "id": "MS0vA7Zh5dna"
      },
      "source": [
        "#Exercício 5\n",
        "import turtle # nos permite usar as tartarugas (turtles)\n",
        "import math\n",
        "\n",
        "print(\"Me fala o número de lados do poligono\")\n",
        "n_lado = input() # lado 20 junto de r=80 são boas escolhas\n",
        "\n",
        "print(\"Me fala o angulo a ser desenhado\")\n",
        "angle = input()\n",
        "\n",
        "print(\"Me fala o raio do circulo\")\n",
        "r = input()\n",
        "\n",
        "jn = turtle.Screen()         # Configurar a janela e seus atributos\n",
        "jn.bgcolor(\"blue\")\n",
        "\n",
        "joana = turtle.Turtle()       # Criar e configurar alguns atributos de joana\n",
        "joana.color(\"red\")\n",
        "joana.pensize(3)\n",
        "joana.speed(5)\n",
        "\n",
        "def polygon(t,lenght, n_lado, n_parada):\n",
        "    angulo_externo = 360/int(n_lado)\n",
        "    for n in range(int(n_parada)+1): #o n+1 é porque o range atua no intervalo aberto no limite superior\n",
        "      t.forward(lenght)             \n",
        "      t.left(angulo_externo)\n",
        "\n",
        "def arc(t,angle,r):\n",
        "    lenght = (2*math.pi*int(r))/int(n_lado) # calcula o lado do polígono\n",
        "    n_parada = (int(r)*math.pi*int(angle))/(lenght*180) #n_parada calcula quando o desenho deve parar de ser feito (é a equação l=r*theta)\n",
        "    polygon(t,lenght,n_lado,n_parada)\n",
        "\n",
        "arc(joana,angle,r)"
      ],
      "execution_count": null,
      "outputs": []
    }
  ]
}